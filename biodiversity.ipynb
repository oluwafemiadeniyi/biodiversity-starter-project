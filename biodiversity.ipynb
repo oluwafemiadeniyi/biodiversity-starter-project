{
 "cells": [
  {
   "cell_type": "code",
   "execution_count": 3,
   "metadata": {},
   "outputs": [],
   "source": [
    "import pandas as pd\n",
    "from matplotlib import pyplot as plt\n",
    "import numpy as np\n",
    "import seaborn as sns"
   ]
  },
  {
   "cell_type": "code",
   "execution_count": 5,
   "metadata": {},
   "outputs": [
    {
     "name": "stdout",
     "output_type": "stream",
     "text": [
      "                               scientific_name  \\\n",
      "0                           Vicia benghalensis   \n",
      "1                               Neovison vison   \n",
      "2                            Prunus subcordata   \n",
      "3                         Abutilon theophrasti   \n",
      "4                     Githopsis specularioides   \n",
      "...                                        ...   \n",
      "23291                     Croton monanthogynus   \n",
      "23292                 Otospermophilus beecheyi   \n",
      "23293  Heterotheca sessiliflora ssp. echioides   \n",
      "23294                     Dicranella rufescens   \n",
      "23295                           Cucurbita pepo   \n",
      "\n",
      "                                 park_name  observations  \n",
      "0      Great Smoky Mountains National Park            68  \n",
      "1      Great Smoky Mountains National Park            77  \n",
      "2                   Yosemite National Park           138  \n",
      "3                      Bryce National Park            84  \n",
      "4      Great Smoky Mountains National Park            85  \n",
      "...                                    ...           ...  \n",
      "23291               Yosemite National Park           173  \n",
      "23292                  Bryce National Park           130  \n",
      "23293                  Bryce National Park           140  \n",
      "23294               Yosemite National Park           171  \n",
      "23295               Yosemite National Park           164  \n",
      "\n",
      "[23296 rows x 3 columns]\n",
      "            category                scientific_name  \\\n",
      "0             Mammal  Clethrionomys gapperi gapperi   \n",
      "1             Mammal                      Bos bison   \n",
      "2             Mammal                     Bos taurus   \n",
      "3             Mammal                     Ovis aries   \n",
      "4             Mammal                 Cervus elaphus   \n",
      "...              ...                            ...   \n",
      "5819  Vascular Plant               Solanum parishii   \n",
      "5820  Vascular Plant                  Solanum xanti   \n",
      "5821  Vascular Plant         Parthenocissus vitacea   \n",
      "5822  Vascular Plant              Vitis californica   \n",
      "5823  Vascular Plant            Tribulus terrestris   \n",
      "\n",
      "                                           common_names conservation_status  \n",
      "0                              Gapper's Red-Backed Vole                 NaN  \n",
      "1                                 American Bison, Bison                 NaN  \n",
      "2     Aurochs, Aurochs, Domestic Cattle (Feral), Dom...                 NaN  \n",
      "3     Domestic Sheep, Mouflon, Red Sheep, Sheep (Feral)                 NaN  \n",
      "4                                         Wapiti Or Elk                 NaN  \n",
      "...                                                 ...                 ...  \n",
      "5819                                Parish's Nightshade                 NaN  \n",
      "5820            Chaparral Nightshade, Purple Nightshade                 NaN  \n",
      "5821        Thicket Creeper, Virginia Creeper, Woodbine                 NaN  \n",
      "5822            California Grape, California Wild Grape                 NaN  \n",
      "5823  Bullhead, Caltrop, Goathead, Mexican Sandbur, ...                 NaN  \n",
      "\n",
      "[5824 rows x 4 columns]\n"
     ]
    }
   ],
   "source": [
    "df1=pd.read_csv('observations.csv')\n",
    "df2=pd.read_csv('species_info.csv')\n",
    "print(df1)\n",
    "print(df2)"
   ]
  },
  {
   "cell_type": "code",
   "execution_count": 7,
   "metadata": {},
   "outputs": [
    {
     "name": "stdout",
     "output_type": "stream",
     "text": [
      "                               scientific_name  \\\n",
      "0                           Vicia benghalensis   \n",
      "1                               Neovison vison   \n",
      "2                            Prunus subcordata   \n",
      "3                         Abutilon theophrasti   \n",
      "4                     Githopsis specularioides   \n",
      "...                                        ...   \n",
      "25627                     Croton monanthogynus   \n",
      "25628                 Otospermophilus beecheyi   \n",
      "25629  Heterotheca sessiliflora ssp. echioides   \n",
      "25630                     Dicranella rufescens   \n",
      "25631                           Cucurbita pepo   \n",
      "\n",
      "                                 park_name  observations           category  \\\n",
      "0      Great Smoky Mountains National Park            68     Vascular Plant   \n",
      "1      Great Smoky Mountains National Park            77             Mammal   \n",
      "2                   Yosemite National Park           138     Vascular Plant   \n",
      "3                      Bryce National Park            84     Vascular Plant   \n",
      "4      Great Smoky Mountains National Park            85     Vascular Plant   \n",
      "...                                    ...           ...                ...   \n",
      "25627               Yosemite National Park           173     Vascular Plant   \n",
      "25628                  Bryce National Park           130             Mammal   \n",
      "25629                  Bryce National Park           140     Vascular Plant   \n",
      "25630               Yosemite National Park           171  Nonvascular Plant   \n",
      "25631               Yosemite National Park           164     Vascular Plant   \n",
      "\n",
      "                             common_names conservation_status  \n",
      "0      Purple Vetch, Reddish Tufted Vetch                 NaN  \n",
      "1                           American Mink                 NaN  \n",
      "2                            Klamath Plum                 NaN  \n",
      "3                              Velvetleaf                 NaN  \n",
      "4                          Common Bluecup                 NaN  \n",
      "...                                   ...                 ...  \n",
      "25627                         Prairie Tea                 NaN  \n",
      "25628          California Ground Squirrel                 NaN  \n",
      "25629     Sessileflower False Goldenaster                 NaN  \n",
      "25630                     Dicranella Moss                 NaN  \n",
      "25631                       Field Pumpkin                 NaN  \n",
      "\n",
      "[25632 rows x 6 columns]\n"
     ]
    }
   ],
   "source": [
    "df=pd.merge(df1,df2,how='left')\n",
    "print(df)"
   ]
  },
  {
   "cell_type": "code",
   "execution_count": null,
   "metadata": {},
   "outputs": [],
   "source": []
  }
 ],
 "metadata": {
  "kernelspec": {
   "display_name": "Python 3 (ipykernel)",
   "language": "python",
   "name": "python3"
  },
  "language_info": {
   "codemirror_mode": {
    "name": "ipython",
    "version": 3
   },
   "file_extension": ".py",
   "mimetype": "text/x-python",
   "name": "python",
   "nbconvert_exporter": "python",
   "pygments_lexer": "ipython3",
   "version": "3.9.7"
  }
 },
 "nbformat": 4,
 "nbformat_minor": 4
}
